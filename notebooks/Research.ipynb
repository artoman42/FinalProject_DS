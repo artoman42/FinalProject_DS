{
 "cells": [
  {
   "cell_type": "markdown",
   "metadata": {},
   "source": [
    "##Final Project\n",
    "\n",
    "*   [Helper functions](#help_funcs)\n",
    "*   [Data Inspection](#inspection)\n",
    "*   [EDA + DP](#EDA)\n",
    "*   [Model Building](#models)\n",
    "*   [Pytorch Lightning](#lightning)\n",
    "*   [Task2.1.Conv1d](#conv1d)\n",
    "*   [Task2.2.Conv3d](#conv3d)\n",
    "\n",
    "\n",
    "\n",
    "* * *\n",
    "Made by Artem Hrachov"
   ]
  },
  {
   "cell_type": "markdown",
   "metadata": {},
   "source": [
    "# <a name=\"help_funcs\"> Helper functions"
   ]
  },
  {
   "cell_type": "code",
   "execution_count": 2,
   "metadata": {},
   "outputs": [],
   "source": [
    "import numpy as np\n",
    "import pandas as pd\n"
   ]
  },
  {
   "cell_type": "markdown",
   "metadata": {},
   "source": [
    "# <a name=\"inspection\"> Data Inspection\n"
   ]
  },
  {
   "cell_type": "markdown",
   "metadata": {},
   "source": [
    "Data Information\n",
    "- `review`: text review\n",
    "***\n",
    "<b>Target variable</b>\n",
    "- `Sentiment(categorical, binary)` -  postive or negative review is"
   ]
  },
  {
   "cell_type": "code",
   "execution_count": 3,
   "metadata": {},
   "outputs": [
    {
     "name": "stdout",
     "output_type": "stream",
     "text": [
      "../data/final_project_train_dataset/train.csv\n"
     ]
    }
   ],
   "source": [
    "train_path = '../data/final_project_train_dataset/train.csv'\n",
    "print(train_path)"
   ]
  },
  {
   "cell_type": "code",
   "execution_count": 4,
   "metadata": {},
   "outputs": [
    {
     "data": {
      "text/html": [
       "<div>\n",
       "<style scoped>\n",
       "    .dataframe tbody tr th:only-of-type {\n",
       "        vertical-align: middle;\n",
       "    }\n",
       "\n",
       "    .dataframe tbody tr th {\n",
       "        vertical-align: top;\n",
       "    }\n",
       "\n",
       "    .dataframe thead th {\n",
       "        text-align: right;\n",
       "    }\n",
       "</style>\n",
       "<table border=\"1\" class=\"dataframe\">\n",
       "  <thead>\n",
       "    <tr style=\"text-align: right;\">\n",
       "      <th></th>\n",
       "      <th>review</th>\n",
       "      <th>sentiment</th>\n",
       "    </tr>\n",
       "  </thead>\n",
       "  <tbody>\n",
       "    <tr>\n",
       "      <th>0</th>\n",
       "      <td>I caught this little gem totally by accident b...</td>\n",
       "      <td>positive</td>\n",
       "    </tr>\n",
       "    <tr>\n",
       "      <th>1</th>\n",
       "      <td>I can't believe that I let myself into this mo...</td>\n",
       "      <td>negative</td>\n",
       "    </tr>\n",
       "    <tr>\n",
       "      <th>2</th>\n",
       "      <td>*spoiler alert!* it just gets to me the nerve ...</td>\n",
       "      <td>negative</td>\n",
       "    </tr>\n",
       "    <tr>\n",
       "      <th>3</th>\n",
       "      <td>If there's one thing I've learnt from watching...</td>\n",
       "      <td>negative</td>\n",
       "    </tr>\n",
       "    <tr>\n",
       "      <th>4</th>\n",
       "      <td>I remember when this was in theaters, reviews ...</td>\n",
       "      <td>negative</td>\n",
       "    </tr>\n",
       "  </tbody>\n",
       "</table>\n",
       "</div>"
      ],
      "text/plain": [
       "                                              review sentiment\n",
       "0  I caught this little gem totally by accident b...  positive\n",
       "1  I can't believe that I let myself into this mo...  negative\n",
       "2  *spoiler alert!* it just gets to me the nerve ...  negative\n",
       "3  If there's one thing I've learnt from watching...  negative\n",
       "4  I remember when this was in theaters, reviews ...  negative"
      ]
     },
     "execution_count": 4,
     "metadata": {},
     "output_type": "execute_result"
    }
   ],
   "source": [
    "df = pd.read_csv(train_path)\n",
    "df.head(5)"
   ]
  },
  {
   "cell_type": "code",
   "execution_count": 5,
   "metadata": {},
   "outputs": [
    {
     "name": "stdout",
     "output_type": "stream",
     "text": [
      "<class 'pandas.core.frame.DataFrame'>\n",
      "RangeIndex: 40000 entries, 0 to 39999\n",
      "Data columns (total 2 columns):\n",
      " #   Column     Non-Null Count  Dtype \n",
      "---  ------     --------------  ----- \n",
      " 0   review     40000 non-null  object\n",
      " 1   sentiment  40000 non-null  object\n",
      "dtypes: object(2)\n",
      "memory usage: 625.1+ KB\n"
     ]
    }
   ],
   "source": [
    "df.info()"
   ]
  },
  {
   "cell_type": "code",
   "execution_count": 6,
   "metadata": {},
   "outputs": [
    {
     "data": {
      "text/html": [
       "<div>\n",
       "<style scoped>\n",
       "    .dataframe tbody tr th:only-of-type {\n",
       "        vertical-align: middle;\n",
       "    }\n",
       "\n",
       "    .dataframe tbody tr th {\n",
       "        vertical-align: top;\n",
       "    }\n",
       "\n",
       "    .dataframe thead th {\n",
       "        text-align: right;\n",
       "    }\n",
       "</style>\n",
       "<table border=\"1\" class=\"dataframe\">\n",
       "  <thead>\n",
       "    <tr style=\"text-align: right;\">\n",
       "      <th></th>\n",
       "      <th>review</th>\n",
       "      <th>sentiment</th>\n",
       "    </tr>\n",
       "  </thead>\n",
       "  <tbody>\n",
       "    <tr>\n",
       "      <th>count</th>\n",
       "      <td>40000</td>\n",
       "      <td>40000</td>\n",
       "    </tr>\n",
       "    <tr>\n",
       "      <th>unique</th>\n",
       "      <td>39728</td>\n",
       "      <td>2</td>\n",
       "    </tr>\n",
       "    <tr>\n",
       "      <th>top</th>\n",
       "      <td>Loved today's show!!! It was a variety and not...</td>\n",
       "      <td>positive</td>\n",
       "    </tr>\n",
       "    <tr>\n",
       "      <th>freq</th>\n",
       "      <td>5</td>\n",
       "      <td>20000</td>\n",
       "    </tr>\n",
       "  </tbody>\n",
       "</table>\n",
       "</div>"
      ],
      "text/plain": [
       "                                                   review sentiment\n",
       "count                                               40000     40000\n",
       "unique                                              39728         2\n",
       "top     Loved today's show!!! It was a variety and not...  positive\n",
       "freq                                                    5     20000"
      ]
     },
     "execution_count": 6,
     "metadata": {},
     "output_type": "execute_result"
    }
   ],
   "source": [
    "df.describe()"
   ]
  },
  {
   "cell_type": "code",
   "execution_count": 10,
   "metadata": {},
   "outputs": [
    {
     "data": {
      "text/plain": [
       "Loved today's show!!! It was a variety and not solely cooking (which would have been great too). Very stimulating and captivating, always keeping the viewer peeking around the corner to see what was coming up next. She is as down to earth and as personable as you get, like one of us which made the show all the more enjoyable. Special guests, who are friends as well made for a nice surprise too. Loved the 'first' theme and that the audience was invited to play along too. I must admit I was shocked to see her come in under her time limits on a few things, but she did it and by golly I'll be writing those recipes down. Saving time in the kitchen means more time with family. Those who haven't tuned in yet, find out what channel and the time, I assure you that you won't be disappointed.                                                                                                                                                                                                                                                                                                                                                                                                                                                                                                                                                                                                                                                                                                                                                                                                                                                                                                                                                                                                                                                                                                                                                                                                                                                                                                                                                                                                5\n",
       "This show comes up with interesting locations as fast as the travel channel. It is billed as reality but in actuality it is pure prime time soap opera. It's tries to use exotic locales as a facade to bring people into a phony contest & then proceeds to hook viewers on the contestants soap opera style.<br /><br />It also borrows from an early CBS game show pioneer- Beat The Clock- by inventing situations for its contestants to try & overcome. Then it rewards the winner money. If they can spice it up with a little interaction between the characters, even better. While the game format is in slow motion versus Beat The Clock- the real accomplishment of this series is to escape reality. <br /><br />This show has elements of several types of successful past programs. Reality television, hardly, but if your hooked on the contestants, locale or contest, this is your cup of tea. If your not, this entire series is as I say, drivel dripping with gravy. It is another show hiding behind the reality label which is the trend it started in 2000.<br /><br />It is slick & well produced, so it might last a while yet. After all, so do re-runs of Gilligan's Island, Green Acres, The Beverly Hillbillies & The Brady Bunch. This just doesn't employ professional actors. The intelligence level is about the same.                                                                                                                                                                                                                                                                                                                                                                                                                                                                                                                                                                                                                                                                                                                                                                                                                                                              3\n",
       "You do realize that you've been watching the EXACT SAME SHOW for eight years, right? I could understand the initial curiosity of seeing strangers co-exist on an Island, but you'd think that after watching unkempt, stink-ladened heroes run roughshod through the bush with an egg on a spoon for half a decade would be enough to get you to commit to something a little more original (and interesting).<br /><br />And I'm not even speaking of the shows validity which for the record I find questionable. It's just hard to suspend disbelief for \"Bushy Bill\" eating a rat when the entire crew of producers and camera people are housed in an air conditioned make-shift bio-dome sipping frosty mochcinno's with moxy.<br /><br />What's the appeal here? I don't care about these people or their meandering lives. I just don't get it. But if you DO find yourself being captivated by hairy, unwashed people, I suggest you turn off your TV and just take a trip to your local bus station where you can see people like this in their TRUE habitat. They call them HOMELESS PEOPLE, and free of charge, you can sit back and marvel in their uncanny ability to retrieve various cigarette debris from a plethora of garbage canisters, eventually striking \"pay-dirt\" and fashioning a homemade Dr. Frankenstein-styled cancer-stick, all the while begging people for change for food when the stink of \"Aqua Velva\" on their breath is enough to suggest otherwise. And the best part? Much like Survivor, every week one member of the tribe \"Leaves\" the \"Island\" when they are unceremoniously sent packing to the local Institution when the frightening unmedicated state of full-blown schizophrenia kicks into gear! Now THAT'S ENTERTAINMENT!                                                                                                                                                                                                                                                                                                                                                                                                                                            3\n",
       "I see that C. Thomas Howell has appeared in many movies since his heyday in the 80s as an accomplished young actor.<br /><br />I bought this DVD because it was cheap and in part for the internet-related plot and to see how much older C. Thomas Howell is; I do not recall seeing him in any movies since the 1980s.<br /><br />In just a few words: what a very big disappointment. I give some low budget movies a chance, but this one started out lame. Within the first 15 minutes of the movie, this elusive woman is chatting with an Asian guy in a chatroom. They basically stimulate themselves to their own chat, she then insists on meeting the participant in person. She meets him, has sex, ties him up and then murders him in cold blood. The plot then deteriorates further.<br /><br />The plot is thin and flimsy and the acting is very stiff. Do not bother renting it much less purchasing it, even if it is in the $1 DVD bin. I plan to take my copy of the DVD to Goodwill. I am truly amazed that any of the prior reviewers here gave this movie a bad rating.                                                                                                                                                                                                                                                                                                                                                                                                                                                                                                                                                                                                                                                                                                                                                                                                                                                                                                                                                                                                                                                                                                                         3\n",
       "This movie starts off somewhat slowly and gets running towards the end. Not that that is bad, it was done to illustrate character trait degression of the main character. Consequently, if you are not into tragedies, this is not your movie. It is the thought provoking philosophy of this movie that makes it worthwhile. If you liked Dostoyevsky's 'Crime and Punishment,\" you will probably like this if only for the comparisons. The intriguing question that the movie prompts is, \"What is it that makes a renowned writer completely disregard his publicly-aproved ideas for another set?\" The new ideas are quite opposed to the status quo-if you are a conservative you will not like this movie. <br /><br />Besides other philosophical questions, I must admit that the movie was quite aesthetically pleasing as well. The grassy hillsides and beautiful scenery helped me get past the slow start. Also, there was use of coloric symbolism in representing the mindstate of the main characters. If these sorts of things do not impress you, skip it. Overall I give this movie a 7.                                                                                                                                                                                                                                                                                                                                                                                                                                                                                                                                                                                                                                                                                                                                                                                                                                                                                                                                                                                                                                                                                                            2\n",
       "                                                                                                                                                                                                                                                                                                                                                                                                                                                                                                                                                                                                                                                                                                                                                                                                                                                                                                                                                                                                                                                                                                                                                                                                                                                                                                                                                                                                                                                                                                                                                                                                                                                                                                                                                                                                                                                                                                                                                                                                                                                                                                                                                                                                                       ..\n",
       "This is a classic war movie. One of the best, a stark image fest of flashing lights, harrowing dark backgrounds and helicopter blades morphing into ceiling fans. A star-studded spectacle of immense power.<br /><br />Martin Sheen is a mercenary sent up river to assassinate the general gone astray, a sadistic dictator played beyond belief by the great Marlon Brando. Also along for the ride are, Robert Duvall as an over the top DI with a penchant for \"napalm in the morning\" or at least the smell of it. Dennis Hopper is an edgy photojournalist with a view slanted views about the war and about his leader. Also in this amazing film you'll see up and coming stars such as Laurence Fishburne, R. Lee Ermey, Sam Bottoms, Albert Hall and keep an eye out for Harrison Ford too...<br /><br />Behind the lens is Francis Ford Coppolla delivering a film with maybe more intensity and drama than the acclaimed Godfather films, he highlights war in it's most basic form, which for the most part is something you can't see, you can only feel it, as the boat carries on up river the feeling of the war tightening in is quite unbearable. The feeling of this is a rather claustrophobic feeling and really makes for unusual moods from the viewers. Honestly no films has ever made me feel like that.<br /><br />Criticism is hard to find. The biggest qualm from some is that Brando earned tons of money for a ten minute role, but in all fairness this is unjustified. It was money well earned, a role that physically restricted him, being at the time an unwell man, and a role that he really made his own. I can't picture anyone better for the role. And if you get the Apocalypse Now Redux version, there's some extra bits of the great man, and I think the Redux does make the film miles better.<br /><br />Final impressions are that if you are lucky to get the Redux version then you will be blessed with a completely satisfying film with a cool 49 minutes extra footage. If not, then still you won't be disappointed, this film is up there with the best, and deserves some great recognition, and a firm place as one of the top 50 films ever made...    1\n",
       "Student Seduction finds Saved By The Bell Alumni Elizabeth Berkley on the other side of the desk and attracting the attention of young and hunky Corey Sevier. Speaking for myself I can truthfully say that no teachers save one ever did anything for me hormonally back when I was a student. That was a Ms. Diaz who was a music teacher in Junior High School. Even as a young gay kid, I could see what she was doing to the rest of the class. She was the only teacher I had who in any way could have been played by Elizabeth Berkley.<br /><br />Corey being the hotty he is, is also used to having his own way with women whether they agree or not. The fact that he comes from rich parents reinforces that belief. He's flunking chemistry which is what Berkley teaches and to keep his GPA up she agrees to tutor, but believe no more. <br /><br />So when he attempts a rape and gets no for an answer it's damaging to his ego. When Berkley goes out of channels and reports the crime to the police, the cops who are keeping in mind the cases of Pamela Smart and Mary Kay LeTourneau just don't believe here. Sevier's parents have the wherewithal to get a good publicity spin on this for their boy.<br /><br />Student Seduction which is a misnomer of a title if there ever was one is trash all the way. After the beating that Berkley took for Showgirls this TV film was not an upward career move.                                                                                                                                                                                                                                                                                                                                                                                                                                                                                                                                                                                                                                                                                                                                                                                 1\n",
       "I saw the movie last night here at home, but I thought it was too long first of all. Second, the things I saw in the movie were way too out of text to even have in this what I thought was going to be a comedy type movie like the rest before. The things isn't funny in the movie: fiancé hitting his girlfriend, beatings. The movie was way too long--talk about wanting to go to sleep and wondering when it will end when you wake up and still have it playing! Some of the things at the reunion were too much to capture--like the lady singing--i felt like i was almost watching a spiritual song show here! come on Perry, you can do better then this!                                                                                                                                                                                                                                                                                                                                                                                                                                                                                                                                                                                                                                                                                                                                                                                                                                                                                                                                                                                                                                                                                                                                                                                                                                                                                                                                                                                                                                                                                                                                                   1\n",
       "You know this is gonna be a cheesy movie when:<br /><br />1. It was made it the 50's 2. It's in black and white. 3. It has no name actors! 4. Screaming makes up for the lack of special effects!<br /><br />Well not to be outdone - this movie brilliantly incorporated all four of the above elements to turn this into a true cinematic blunder.<br /><br />Okay - shhhhh but I am gonna discuss special effects here - or lack of them - <br /><br />Did you catch the underwater scenes? It looks like it was poorly filmed through an aquarium - note the cape flapping in the breeze.<br /><br />And the repeated re-use of Stock Footage, (exterior house shots, the bridges scenes -- great enhanced the K-R-A-F-Tiness of this film - not since \"PLAN 9\" - have I seen such creative usage of stock footage.<br /><br />And hey where there was a lack of special effects - not to worry - screaming DOES take the place of special effects in this movie as well. Yes this movie even cleverly used that old hack trick.<br /><br />Grab the popcorn - set your brain on stun (several fermented beverages DEFINITELY helps), sit back, and wonder: why the heck did they put this on film again?<br /><br />Wayno<br /><br />                                                                                                                                                                                                                                                                                                                                                                                                                                                                                                                                                                                                                                                                                                                                                                                                                                                                                                                                                                              1\n",
       "This movie forever left an impression on me. I watched it as a Freshman in High School and was home alone that night. I think I lost all respect for Robert Reed as an actor having been a huge fan of the \"Brady Bunch\". I also thought the role of Chuck Connor was horrendous and evil. However, this movie made such an impact on me that I am now a volunteer in the women's state prison doing bible studies and church services and trying to change womens lives, one at a time. What fascinates me is that so few people actually watched this movie. None of my friends watched it and my family is clueless to this day when I discuss this movie because they didn't see it.                                                                                                                                                                                                                                                                                                                                                                                                                                                                                                                                                                                                                                                                                                                                                                                                                                                                                                                                                                                                                                                                                                                                                                                                                                                                                                                                                                                                                                                                                                                                1\n",
       "Name: review, Length: 39728, dtype: int64"
      ]
     },
     "execution_count": 10,
     "metadata": {},
     "output_type": "execute_result"
    }
   ],
   "source": [
    "df['review'].value_counts()"
   ]
  },
  {
   "cell_type": "code",
   "execution_count": null,
   "metadata": {},
   "outputs": [],
   "source": []
  },
  {
   "cell_type": "markdown",
   "metadata": {},
   "source": [
    "asdas"
   ]
  }
 ],
 "metadata": {
  "kernelspec": {
   "display_name": "display-name",
   "language": "python",
   "name": "pycaretenv"
  },
  "language_info": {
   "codemirror_mode": {
    "name": "ipython",
    "version": 3
   },
   "file_extension": ".py",
   "mimetype": "text/x-python",
   "name": "python",
   "nbconvert_exporter": "python",
   "pygments_lexer": "ipython3",
   "version": "3.8.16"
  }
 },
 "nbformat": 4,
 "nbformat_minor": 2
}
